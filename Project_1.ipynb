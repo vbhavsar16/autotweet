{
 "cells": [
  {
   "cell_type": "markdown",
   "metadata": {},
   "source": [
    "# Markov Chain Model Implimenting to Auto-Generate a Tweet\n",
    "\n",
    "## Introduction\n",
    "\n",
    "Twitter is a social media network which has more than 319 million monthly active users as of 2016. Twitter has a feature of the certified user, which is the reason people follow many influencer leaders who can pass their message quickly. People writing these tweets have repetitiveness in their tweet. By figuring out this behavior, one can auto-generate the tweet by feeding on the tweet topic. Although final sentence quality depends on how well we formulate the method. One of the models for predicting possible event sequences is the Markov Chain Model."
   ]
  },
  {
   "cell_type": "code",
   "execution_count": 1,
   "metadata": {},
   "outputs": [
    {
     "data": {
      "image/png": "[encoded data removed]",
      "text/plain": [
       "<IPython.core.display.Image object>"
      ]
     },
     "execution_count": 1,
     "metadata": {},
     "output_type": "execute_result"
    }
   ],
   "source": [
    "from IPython.display import Image\n",
    "Image('markov_chain_example.png')"
   ]
  },
  {
   "cell_type": "markdown",
   "metadata": {},
   "source": [
    "As shown in the figure, 3 states are available to be in. If we start from state 1, then in next event probability of staying on state 1 is 0.6, the probability of changing the state to 2 and 3 is respectively 0.2 and 0.2. This stochastic approach predicts the sequence of events. In this report, this technique is used to understand the very basic methodology and early stage of auto writing. One can pass a starting word of the sentence here, and you receive the tweet of 280 word, which is the new word limit twitter just updated. Two users, namely former President Barak Obama and President Donald Trump's previous tweet from 2016 is used to gain knowledge of this repetitiveness."
   ]
  },
  {
   "cell_type": "markdown",
   "metadata": {},
   "source": [
    "## Data Set\n",
    "The tweet of these two users is collected from November 2016 and have 200 tweets for each user. To use this data for our use, first links and date-time stamps are removed from these tweets. Further twitter is split in word and made the word pair of word and its consecutive word. One has to figure out that how many times this word pair is used by the user."
   ]
  },
  {
   "cell_type": "code",
   "execution_count": 2,
   "metadata": {},
   "outputs": [],
   "source": [
    "import numpy as np\n",
    "\n",
    "def join_string(list_string):\n",
    "    string = ' '.join(list_string)\n",
    "    return string\n",
    "\n",
    "def next(pin):\n",
    "    p = np.array(pin)\n",
    "    csp = p.cumsum()\n",
    "    r = np.random.rand()\n",
    "    i = (r<csp).argmax()  # index of first True in r<csp\n",
    "    return i"
   ]
  },
  {
   "cell_type": "markdown",
   "metadata": {},
   "source": [
    "Two functions are defined here, where the first function can join the list of string and return as sentences with white space in between. The second function takes the list of a number, which sums up cumulatively and stored in another array. Then the random number is generated by numpy command random.rand(). The function will return the index of first true if the random number is less than the cumulative sum."
   ]
  },
  {
   "cell_type": "code",
   "execution_count": 3,
   "metadata": {},
   "outputs": [],
   "source": [
    "with open('tweets.txt',encoding='utf8') as tf:\n",
    "    ########## Tweet generatoion using President Trump's tweets ##########\n",
    "    tweets = [line for line in tf.read().split('\\n') if len(line)>0 and line.startswith('RealDonaldTrump') ]\n",
    "    ########## Tweet generatoion using President Obama's tweets ##########\n",
    "    #tweets = [line for line in tf.read().split('\\n') if len(line)>0 and line.startswith('BarackObama') ]"
   ]
  },
  {
   "cell_type": "markdown",
   "metadata": {},
   "source": [
    "Above code would open the file from data is stored. And it will be split by a new line and considered only tweets of President Donald Trump. One can uncomment the fifth line to get the tweets of President Barak Obama."
   ]
  },
  {
   "cell_type": "markdown",
   "metadata": {},
   "source": [
    "## Methodology\n",
    "Now one has to make the word pair of word and it's consecutive word. This can be done with zip command. These word pairs can be stored in the dictionary, where the word is the key of the dictionary. And the value of this dictionary is also consist of a dictionary of the key being consecutive word and value being a count of that particular pair. One can also make the same structured dictionary of probability, the value of the second dictionary set as probability instead of count. Probability can be found by given equation.\n",
    "$$Probability_{word\\ pair} = \\frac{Counts\\ of\\ Perticular\\ Consecutive\\ Word}{Sum\\ of\\ counts\\ of\\ all\\ possible\\ consecutive\\ words}$$"
   ]
  },
  {
   "cell_type": "code",
   "execution_count": 6,
   "metadata": {},
   "outputs": [
    {
     "name": "stdout",
     "output_type": "stream",
     "text": [
      "0.38461538461538464 make america\n",
      "0.07692307692307693 make me\n",
      "0.07692307692307693 make up\n",
      "0.07692307692307693 make things\n",
      "0.07692307692307693 make california\n",
      "0.07692307692307693 make you\n",
      "0.07692307692307693 make joseph\n",
      "0.07692307692307693 make business\n",
      "0.07692307692307693 make a\n"
     ]
    }
   ],
   "source": [
    "counts = {}\n",
    "probability = {}\n",
    "\n",
    "for tweet in tweets:\n",
    "    words = tweet.lower().split()\n",
    "    # Remove links, username and date-time stamps\n",
    "    words = words[2:]\n",
    "    words = [word for word in words if not word.startswith('http')]\n",
    "    new_string = join_string(words)\n",
    "    # Replace these symbols with Space and symbol to be considered as a word\n",
    "    words = new_string.replace('#','# ').replace('@','@ ').replace('.',' .').replace('!',' !').replace(',',' ,').replace(':',' :').replace(';',' ;').replace('...',' ...').replace('(',' (').replace(')',' )').split()\n",
    "    #Zip the words to make the pairs   \n",
    "    wps = list(zip( words[:-1], words[1:] ))\n",
    "    # Dictonary for counts\n",
    "    for wp in wps:\n",
    "        if wp[0] not in counts.keys():\n",
    "            counts[wp[0]] = {}\n",
    "        if wp[1] not in counts[wp[0]].keys():\n",
    "            counts[wp[0]][wp[1]] = 1\n",
    "        else:\n",
    "            counts[wp[0]][wp[1]] += 1\n",
    "    # Dictonary for probability\n",
    "    for f in counts.keys():\n",
    "        probability[f] = {}\n",
    "        for s in counts[f].keys():\n",
    "            probability[f][s] = counts[f][s]/sum(counts[f].values())\n",
    "            \n",
    "# Just for Output\n",
    "def second(x): return x[1]\n",
    "for wp,count in sorted( probability['make'].items(), key=second, reverse=True ):\n",
    "    print(count,'make',wp)"
   ]
  },
  {
   "cell_type": "markdown",
   "metadata": {},
   "source": [
    "Here one example is shown, the word is 'make'. And it has different consecutive words like 'america', 'business'. We can see that except for 'america', all have 0.07 probability of coming after 'make'. While 'america' is used 38% of the time whenever President Trump used 'make'."
   ]
  },
  {
   "cell_type": "markdown",
   "metadata": {},
   "source": [
    "## Implementation\n",
    "Now one can provide an initial word and can produce the tweet with the code given below. The function mentioned above can be used to give indices where the first condition is satisfied with probability and the random number. That indices capture the next word and can again be used as a new word, to begin with."
   ]
  },
  {
   "cell_type": "code",
   "execution_count": 8,
   "metadata": {},
   "outputs": [
    {
     "name": "stdout",
     "output_type": "stream",
     "text": [
      "new tweet =  a total endorsement! rigged and complete and our vets. .and according to be a number of florida is that happen .” can you are no collusion is strong on crime, fuel, if trump campaign finance violation, good people trying endlessly to be fired from the @ secpompeo to keep their corrupt.\n"
     ]
    }
   ],
   "source": [
    "# Choose Initial word as you like\n",
    "initialword = 'a'\n",
    "new_tweet = initialword\n",
    "next_word = initialword\n",
    "while len(new_tweet) < 280:\n",
    "    lis = []\n",
    "    for a in probability[next_word].keys():\n",
    "        lis = lis + [probability[next_word][a]]\n",
    "    i = next(lis) # Next function defined above\n",
    "    cond = list(probability[next_word].keys())[i]\n",
    "    if cond == '.' or cond == ',' or cond == '!' or cond == ':' or cond == ';':\n",
    "        new_tweet = new_tweet + cond\n",
    "        next_word = cond\n",
    "    else:\n",
    "        new_tweet = new_tweet + ' ' + cond\n",
    "        next_word = cond\n",
    "print('new tweet = ',new_tweet + '.')"
   ]
  },
  {
   "cell_type": "markdown",
   "metadata": {},
   "source": [
    "Here the initial word is set as 'a', and we can see some common phrases like \"a total endorsement\". One sentence has \"according to\", and then with 'to', 'be' has a higher probability, making the sentence like \"according to be\". Which is not making a sense.\n",
    "\n",
    "Output using tweets of President Obama's:\n",
    "\"new tweet =  a better time to keep pushing towards justice for his paychecks from 2017. today’s decision to the country we can # obamacare, together, america's uninsured rate has been short a beautiful day, president obama lays out to love. you’re leading us have. caring for you? thanks to get.\"\n",
    "\n",
    "In this tweet, it makes sense for the initial some sentences, but the phrasing of sentences is poor. Although we can say that this tweet does sound like President Obama's tweet."
   ]
  },
  {
   "cell_type": "markdown",
   "metadata": {},
   "source": [
    "## Conclusion\n",
    "The pair of word and consecutive word is used, we can distinguish between the tweets and can recognize the user. Although it does not have any meaning. Some half sentence looks like going in right direction, but this model fully based on the stochastic method it can not pick up the right word.\n",
    "\n",
    "There are two alternatives, first being instead of using the only word, we can use the pair of word pair and consecutive word pair. Example: Instead of the current state being 'make', we have 'make america', paired with 'america great'. Further study is required to see if this approach can generate the realistic tweets.\n",
    "\n",
    "The second approach is to use the mix of the stochastic and heuristic method. We can introduce some penalty in probability function by comparing it to available sentence structure."
   ]
  },
  {
   "cell_type": "markdown",
   "metadata": {},
   "source": [
    "## References\n",
    "Class note (Image : Markov Chain)\n",
    "\n",
    "https://en.wikipedia.org/wiki/Twitter\n",
    "\n",
    "https://en.wikipedia.org/wiki/Markov_chain"
   ]
  },
  {
   "cell_type": "code",
   "execution_count": null,
   "metadata": {},
   "outputs": [],
   "source": []
  }
 ],
 "metadata": {
  "kernelspec": {
   "display_name": "Python 3 (ipykernel)",
   "language": "python",
   "name": "python3"
  },
  "language_info": {
   "codemirror_mode": {
    "name": "ipython",
    "version": 3
   },
   "file_extension": ".py",
   "mimetype": "text/x-python",
   "name": "python",
   "nbconvert_exporter": "python",
   "pygments_lexer": "ipython3",
   "version": "3.10.6"
  }
 },
 "nbformat": 4,
 "nbformat_minor": 2
}

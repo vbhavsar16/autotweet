{
 "cells": [
  {
   "cell_type": "code",
   "execution_count": 201,
   "metadata": {},
   "outputs": [
    {
     "data": {
      "text/plain": [
       "200"
      ]
     },
     "execution_count": 201,
     "metadata": {},
     "output_type": "execute_result"
    }
   ],
   "source": [
    "with open('tweets.txt',encoding='utf8') as tf:\n",
    "    s = tf.read()\n",
    "tweets0 = s.split('\\n')\n",
    "tweets = [ tweet for tweet in tweets0 if len(tweet)>0 and tweet.startswith('RealDonaldTrump') ]\n",
    "len(tweets)"
   ]
  },
  {
   "cell_type": "code",
   "execution_count": 43,
   "metadata": {
    "scrolled": true
   },
   "outputs": [
    {
     "name": "stdout",
     "output_type": "stream",
     "text": [
      "[0.1, 0.2, 0.7]\n"
     ]
    },
    {
     "data": {
      "text/plain": [
       "280"
      ]
     },
     "execution_count": 43,
     "metadata": {},
     "output_type": "execute_result"
    }
   ],
   "source": [
    "#x = {1:{'1':'yes','2':'ty'},2:{'3':'left','th':'ty'}}\n",
    "x = {1:{'less': 0.1 ,'most':0.5},2:{'less':0.1, 'th':0.2, 'most':0.7}}\n",
    "#x[2]['right']\n",
    "#for f in x.keys():\n",
    "#    for s in x[f].keys():\n",
    "#        print(x[f][s])\n",
    "#print( list(x[2].keys())[1] )\n",
    "#print(get_nth_key(x[2], n=1) )\n",
    "\n",
    "def get_nth_key(dictionary, n=0):\n",
    "    if n < 0:\n",
    "        n += len(dictionary)\n",
    "    for i, key in enumerate(dictionary.keys()):\n",
    "        if i == n:\n",
    "            return key\n",
    "    raise IndexError(\"dictionary index out of range\") \n",
    "\n",
    "Firstword = 'djfhkjhjkdzccccccccccccccccccccccccccccccccccccccccccccccccccccccccccccccccccccccccccccccccccccccccccccccccccccccccccccccccccccccccccccccccccccccccccccccccccccccccccccccccccccccccccccccccccccccccccccccccccccccccccccccccccccccccccccccccccccccccccccccccccccccccccccccccccccccccccccc'\n",
    "#sec = Firstword + ' ' + list(x[2].keys())[1]\n",
    "#print( sec )\n",
    "\n",
    "def next(pin):\n",
    "    # pin might be a list not a numpy array\n",
    "    p = np.array(pin)\n",
    "    print(p)\n",
    "    csp = p.cumsum()\n",
    "    print(csp)\n",
    "    r = np.random.rand()\n",
    "    print('r=',r)\n",
    "    print(r < csp)\n",
    "    i = (r<csp).argmax()  # index of first True in r<csp\n",
    "    return i\n",
    "lis = []\n",
    "for a in x[2].keys():\n",
    "    lis = lis + [x[2][a]]\n",
    "#for a in x.keys():\n",
    "#    for b in x[a].keys():\n",
    "#        lis = lis + [x[a][b]]\n",
    "print(lis)\n",
    "#list(x[2].keys())[next(lis)]\n",
    "ne = 'th'\n",
    "sec = 'the'\n",
    "len(Firstword)\n",
    "#while ne is not 'less':\n",
    "#    i = next(lis)\n",
    "#    print(i)\n",
    "#    sec = sec + ' ' + list(x[2].keys())[i]\n",
    "#    ne = list(x[2].keys())[i]\n",
    "#    print( sec )\n",
    "#sec = sec + '.'\n",
    "#print( sec )\n",
    "    #print( len(sec) )\n",
    "#else:\n",
    "    #break"
   ]
  },
  {
   "cell_type": "code",
   "execution_count": 24,
   "metadata": {},
   "outputs": [
    {
     "data": {
      "text/plain": [
       "'BarackObama 2016_10_07-13_59_22 The economy added 156,000 jobs in September—extending the longest streak of total job growth on record.'"
      ]
     },
     "execution_count": 24,
     "metadata": {},
     "output_type": "execute_result"
    }
   ],
   "source": [
    "tweets[-1]"
   ]
  },
  {
   "cell_type": "code",
   "execution_count": 25,
   "metadata": {},
   "outputs": [],
   "source": [
    "a2 = ['BarackObama']; a1 = ['RealDonaldTrump']"
   ]
  },
  {
   "cell_type": "code",
   "execution_count": 10,
   "metadata": {},
   "outputs": [
    {
     "data": {
      "text/plain": [
       "False"
      ]
     },
     "execution_count": 10,
     "metadata": {},
     "output_type": "execute_result"
    }
   ],
   "source": [
    "a1 in tweets"
   ]
  },
  {
   "cell_type": "code",
   "execution_count": 87,
   "metadata": {},
   "outputs": [
    {
     "name": "stdout",
     "output_type": "stream",
     "text": [
      "200\n"
     ]
    }
   ],
   "source": [
    "import numpy as np\n",
    "\n",
    "with open('tweets.txt',encoding='utf8') as tf:\n",
    "    ########## Tweet generatoion using President Trump's tweets ##########\n",
    "    #tweets = [line for line in tf.read().split('\\n') if len(line)>0 and line.startswith('RealDonaldTrump') ]\n",
    "    ########## Tweet generatoion using President Obama's tweets ##########\n",
    "    tweets = [line for line in tf.read().split('\\n') if len(line)>0 and line.startswith('BarackObama') ]\n",
    "    \n",
    "def join_string(list_string):\n",
    "    string = ' '.join(list_string)\n",
    "    return string\n",
    "\n",
    "def next(pin):\n",
    "    # pin might be a list not a numpy array\n",
    "    p = np.array(pin)\n",
    "    #print(p)\n",
    "    csp = p.cumsum()\n",
    "    #print(csp)\n",
    "    r = np.random.rand()\n",
    "    #print('r=',r)\n",
    "    #print(r < csp)\n",
    "    i = (r<csp).argmax()  # index of first True in r<csp\n",
    "    return i\n",
    "print(len(tweets))"
   ]
  },
  {
   "cell_type": "code",
   "execution_count": 120,
   "metadata": {},
   "outputs": [
    {
     "name": "stdout",
     "output_type": "stream",
     "text": [
      "['barackobama', '2016_10_11-20_02_19', 'the', 'supreme', 'court', 'must', 'remain', 'above', 'politics.', 'judge', 'garland', 'needs', 'a', 'hearing', 'and', 'a', 'vote.', '#doyourjob']\n",
      "barackobama 2016_10_11-20_02_19 the supreme court must remain above politics. judge garland needs a hearing and a vote. #doyourjob\n",
      "['barackobama', '2016_10_11-20_02_19', 'the', 'supreme', 'court', 'must', 'remain', 'above', 'politics', '.', 'judge', 'garland', 'needs', 'a', 'hearing', 'and', 'a', 'vote', '.', '#doyourjob']\n"
     ]
    }
   ],
   "source": [
    "def join_string(list_string):\n",
    "    string = ' '.join(list_string)\n",
    "    return string\n",
    "words = tweets[389].lower().split()\n",
    "words = [word for word in words if not word.startswith('http')]\n",
    "print(words)\n",
    "new_string = join_string(words)\n",
    "print(new_string)\n",
    "words = new_string.lower().replace('.',' .').split()\n",
    "\n",
    "#print(words)\n",
    "\n",
    "#The Supreme Court must remain above politics. Judge Garland needs a hearing and a vote. #DoYourJob https://t.co/eVSPSIFNpB"
   ]
  },
  {
   "cell_type": "code",
   "execution_count": 88,
   "metadata": {},
   "outputs": [
    {
     "name": "stdout",
     "output_type": "stream",
     "text": [
      "0.3333333333333333 make sure\n",
      "0.08333333333333333 make america\n",
      "0.08333333333333333 make this\n",
      "0.08333333333333333 make us\n",
      "0.08333333333333333 make every\n",
      "0.08333333333333333 make a\n",
      "0.08333333333333333 make an\n",
      "0.08333333333333333 make me\n",
      "0.08333333333333333 make choices\n"
     ]
    }
   ],
   "source": [
    "counts = {}\n",
    "probability = {}\n",
    "for tweet in tweets:\n",
    "    #print(tweet)\n",
    "    #words = tweet[2:].lower().split()\n",
    "    \n",
    "    words = tweet.lower().split()\n",
    "    words = words[2:]\n",
    "    words = [word for word in words if not word.startswith('http')]\n",
    "    new_string = join_string(words)\n",
    "    words = new_string.replace('#','# ').replace('@','@ ').replace('.',' .').replace('!',' !').replace(',',' ,').replace(':',' :').replace(';',' ;').replace('...',' ...').replace('(',' (').replace(')',' )').split()\n",
    "   \n",
    "    wps = list(zip( words[:-1], words[1:] ))\n",
    "    \n",
    "    for wp in wps:\n",
    "        #print(wp[0],wp[1])\n",
    "        if wp[0] not in counts.keys():\n",
    "            counts[wp[0]] = {} #has to use array\n",
    "        if wp[1] not in counts[wp[0]].keys():\n",
    "            counts[wp[0]][wp[1]] = 1\n",
    "        else:\n",
    "            counts[wp[0]][wp[1]] += 1\n",
    "        #counts[wp[0]] += 1\n",
    "    \n",
    "    for f in counts.keys():\n",
    "        probability[f] = {}\n",
    "        for s in counts[f].keys():\n",
    "            probability[f][s] = counts[f][s]/sum(counts[f].values())\n",
    "#print('make = ',probability['make'])\n",
    "def second(x): return x[1]\n",
    "for wp,count in sorted( probability['make'].items(), key=second, reverse=True ):\n",
    "    print(count,'make',wp)"
   ]
  },
  {
   "cell_type": "code",
   "execution_count": null,
   "metadata": {},
   "outputs": [],
   "source": []
  },
  {
   "cell_type": "code",
   "execution_count": 89,
   "metadata": {},
   "outputs": [
    {
     "name": "stdout",
     "output_type": "stream",
     "text": [
      "new tweet =  a better time to keep pushing towards justice for his paychecks from 2017. today’s decision to the country we can # obamacare, together, america's uninsured rate has been short a beautiful day, president obama lays out to love. you’re leading us have. caring for you? thanks to get.\n"
     ]
    }
   ],
   "source": [
    "initialword = 'a'\n",
    "new_tweet = initialword\n",
    "next_word = initialword\n",
    "while len(new_tweet) < 280:\n",
    "    lis = []\n",
    "    for a in probability[next_word].keys():\n",
    "        lis = lis + [probability[next_word][a]]\n",
    "    i = next(lis)\n",
    "    cond = list(probability[next_word].keys())[i]\n",
    "    if cond == '.' or cond == ',' or cond == '!' or cond == ':' or cond == ';':\n",
    "        new_tweet = new_tweet + cond\n",
    "        next_word = cond\n",
    "    else:\n",
    "        new_tweet = new_tweet + ' ' + cond\n",
    "        next_word = cond\n",
    "print('new tweet = ',new_tweet + '.')"
   ]
  },
  {
   "cell_type": "code",
   "execution_count": null,
   "metadata": {},
   "outputs": [],
   "source": []
  }
 ],
 "metadata": {
  "kernelspec": {
   "display_name": "Python 3",
   "language": "python",
   "name": "python3"
  },
  "language_info": {
   "codemirror_mode": {
    "name": "ipython",
    "version": 3
   },
   "file_extension": ".py",
   "mimetype": "text/x-python",
   "name": "python",
   "nbconvert_exporter": "python",
   "pygments_lexer": "ipython3",
   "version": "3.6.5"
  }
 },
 "nbformat": 4,
 "nbformat_minor": 2
}
